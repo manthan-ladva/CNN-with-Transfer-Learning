{
  "nbformat": 4,
  "nbformat_minor": 0,
  "metadata": {
    "colab": {
      "name": "RPS with T.L..ipynb",
      "version": "0.3.2",
      "provenance": []
    },
    "kernelspec": {
      "name": "python3",
      "display_name": "Python 3"
    },
    "accelerator": "GPU"
  },
  "cells": [
    {
      "cell_type": "code",
      "metadata": {
        "id": "t5ahhDZkLmie",
        "colab_type": "code",
        "colab": {}
      },
      "source": [
        "import tensorflow as tf"
      ],
      "execution_count": 0,
      "outputs": []
    },
    {
      "cell_type": "code",
      "metadata": {
        "id": "Bx4b1eqk6Lua",
        "colab_type": "code",
        "colab": {
          "base_uri": "https://localhost:8080/",
          "height": 391
        },
        "outputId": "b1069cc7-0d7b-407a-d075-4d62bfe847e0"
      },
      "source": [
        "!wget --no-check-certificate \\\n",
        "    https://storage.googleapis.com/laurencemoroney-blog.appspot.com/rps.zip \\\n",
        "    -O /tmp/rps.zip\n",
        "  \n",
        "!wget --no-check-certificate \\\n",
        "    https://storage.googleapis.com/laurencemoroney-blog.appspot.com/rps-test-set.zip \\\n",
        "    -O /tmp/rps-test-set.zip"
      ],
      "execution_count": 2,
      "outputs": [
        {
          "output_type": "stream",
          "text": [
            "--2019-08-29 10:25:38--  https://storage.googleapis.com/laurencemoroney-blog.appspot.com/rps.zip\n",
            "Resolving storage.googleapis.com (storage.googleapis.com)... 74.125.132.128, 2607:f8b0:4001:c12::80\n",
            "Connecting to storage.googleapis.com (storage.googleapis.com)|74.125.132.128|:443... connected.\n",
            "HTTP request sent, awaiting response... 200 OK\n",
            "Length: 200682221 (191M) [application/zip]\n",
            "Saving to: ‘/tmp/rps.zip’\n",
            "\n",
            "/tmp/rps.zip        100%[===================>] 191.38M  31.7MB/s    in 6.3s    \n",
            "\n",
            "2019-08-29 10:25:45 (30.5 MB/s) - ‘/tmp/rps.zip’ saved [200682221/200682221]\n",
            "\n",
            "--2019-08-29 10:25:46--  https://storage.googleapis.com/laurencemoroney-blog.appspot.com/rps-test-set.zip\n",
            "Resolving storage.googleapis.com (storage.googleapis.com)... 172.217.212.128, 2607:f8b0:4001:c01::80\n",
            "Connecting to storage.googleapis.com (storage.googleapis.com)|172.217.212.128|:443... connected.\n",
            "HTTP request sent, awaiting response... 200 OK\n",
            "Length: 29516758 (28M) [application/zip]\n",
            "Saving to: ‘/tmp/rps-test-set.zip’\n",
            "\n",
            "/tmp/rps-test-set.z 100%[===================>]  28.15M   101MB/s    in 0.3s    \n",
            "\n",
            "2019-08-29 10:25:47 (101 MB/s) - ‘/tmp/rps-test-set.zip’ saved [29516758/29516758]\n",
            "\n"
          ],
          "name": "stdout"
        }
      ]
    },
    {
      "cell_type": "code",
      "metadata": {
        "id": "EEZuYdVs6MO6",
        "colab_type": "code",
        "colab": {}
      },
      "source": [
        "import os\n",
        "import zipfile\n",
        "\n",
        "local_zip = '/tmp/rps.zip'\n",
        "zip_ref = zipfile.ZipFile(local_zip, 'r')\n",
        "zip_ref.extractall('/tmp/')\n",
        "zip_ref.close()\n",
        "\n",
        "local_zip = '/tmp/rps-test-set.zip'\n",
        "zip_ref = zipfile.ZipFile(local_zip, 'r')\n",
        "zip_ref.extractall('/tmp/')\n",
        "zip_ref.close()"
      ],
      "execution_count": 0,
      "outputs": []
    },
    {
      "cell_type": "code",
      "metadata": {
        "id": "rogjBpPc6O4I",
        "colab_type": "code",
        "colab": {
          "base_uri": "https://localhost:8080/",
          "height": 68
        },
        "outputId": "3548bef0-28a2-49a2-f759-9a0a9ab9f1be"
      },
      "source": [
        "rock_dir = os.path.join('/tmp/rps/rock')\n",
        "paper_dir = os.path.join('/tmp/rps/paper')\n",
        "scissors_dir = os.path.join('/tmp/rps/scissors')\n",
        "\n",
        "print('total training rock images:', len(os.listdir(rock_dir)))\n",
        "print('total training paper images:', len(os.listdir(paper_dir)))\n",
        "print('total training scissors images:', len(os.listdir(scissors_dir)))"
      ],
      "execution_count": 4,
      "outputs": [
        {
          "output_type": "stream",
          "text": [
            "total training rock images: 840\n",
            "total training paper images: 840\n",
            "total training scissors images: 840\n"
          ],
          "name": "stdout"
        }
      ]
    },
    {
      "cell_type": "code",
      "metadata": {
        "id": "ZLkwr5TI6TYs",
        "colab_type": "code",
        "colab": {}
      },
      "source": [
        "from keras.preprocessing.image import ImageDataGenerator"
      ],
      "execution_count": 0,
      "outputs": []
    },
    {
      "cell_type": "code",
      "metadata": {
        "id": "WOGb6Vtp65mG",
        "colab_type": "code",
        "colab": {}
      },
      "source": [
        "training_dir = \"/tmp/rps/\"\n",
        "validation_dir = \"/tmp/rps-test-set/\""
      ],
      "execution_count": 0,
      "outputs": []
    },
    {
      "cell_type": "code",
      "metadata": {
        "id": "SPd8X12w7GOR",
        "colab_type": "code",
        "colab": {}
      },
      "source": [
        "train_datagen = ImageDataGenerator(rescale=1./255.,\n",
        "                                  rotation_range=40,\n",
        "                                  width_shift_range=0.2,\n",
        "                                  height_shift_range=0.2,\n",
        "                                  shear_range=0.2,\n",
        "                                  zoom_range=0.2,\n",
        "                                  horizontal_flip=True,\n",
        "                                  vertical_flip = True,\n",
        "                                  fill_mode='nearest')\n",
        "\n",
        "valid_datagen = ImageDataGenerator(rescale=1./255.)"
      ],
      "execution_count": 0,
      "outputs": []
    },
    {
      "cell_type": "code",
      "metadata": {
        "id": "mNbIu6UU78lt",
        "colab_type": "code",
        "colab": {
          "base_uri": "https://localhost:8080/",
          "height": 51
        },
        "outputId": "4e4cc5bf-7097-4a9b-e4b7-6e3c38e5fe78"
      },
      "source": [
        "train_generator = train_datagen.flow_from_directory(training_dir,\n",
        "                                                   target_size=(150,150),\n",
        "                                                   class_mode='categorical')\n",
        "\n",
        "valid_generator = valid_datagen.flow_from_directory(validation_dir,\n",
        "                                                   target_size=(150,150),\n",
        "                                                   class_mode='categorical')"
      ],
      "execution_count": 8,
      "outputs": [
        {
          "output_type": "stream",
          "text": [
            "Found 2520 images belonging to 3 classes.\n",
            "Found 372 images belonging to 3 classes.\n"
          ],
          "name": "stdout"
        }
      ]
    },
    {
      "cell_type": "code",
      "metadata": {
        "id": "2dlAzjaA8YVA",
        "colab_type": "code",
        "colab": {}
      },
      "source": [
        "model = tf.keras.models.Sequential([\n",
        "    tf.keras.layers.Conv2D(32, (3,3), activation='relu', padding='same', input_shape=(150,150,3)),\n",
        "    tf.keras.layers.MaxPool2D(2,2),\n",
        "    \n",
        "    tf.keras.layers.Conv2D(32, (3,3), activation='relu', padding='same', input_shape=(150,150,3)),\n",
        "    tf.keras.layers.Conv2D(64, (3,3), activation='relu', padding='same', input_shape=(150,150,3)),\n",
        "    tf.keras.layers.MaxPool2D(2,2),\n",
        "    \n",
        "    tf.keras.layers.Conv2D(128, (3,3), activation='relu', padding='same', input_shape=(150,150,3)),\n",
        "    tf.keras.layers.MaxPool2D(2,2),\n",
        "    \n",
        "    tf.keras.layers.Conv2D(128, (3,3), activation='relu', padding='same', input_shape=(150,150,3)),\n",
        "    tf.keras.layers.MaxPool2D(2,2),\n",
        "    \n",
        "    tf.keras.layers.Flatten(),\n",
        "    tf.keras.layers.Dropout(0.5),\n",
        "    tf.keras.layers.Dense(512, activation='relu'),\n",
        "    tf.keras.layers.Dense(3, activation='softmax')\n",
        "])"
      ],
      "execution_count": 0,
      "outputs": []
    },
    {
      "cell_type": "code",
      "metadata": {
        "id": "ruKmH0dV-xIW",
        "colab_type": "code",
        "colab": {
          "base_uri": "https://localhost:8080/",
          "height": 595
        },
        "outputId": "3a44b656-cd1a-49e0-8705-b18a68828416"
      },
      "source": [
        "model.summary()"
      ],
      "execution_count": 15,
      "outputs": [
        {
          "output_type": "stream",
          "text": [
            "Model: \"sequential_2\"\n",
            "_________________________________________________________________\n",
            "Layer (type)                 Output Shape              Param #   \n",
            "=================================================================\n",
            "conv2d_15 (Conv2D)           (None, 150, 150, 32)      896       \n",
            "_________________________________________________________________\n",
            "max_pooling2d_12 (MaxPooling (None, 75, 75, 32)        0         \n",
            "_________________________________________________________________\n",
            "conv2d_16 (Conv2D)           (None, 75, 75, 32)        9248      \n",
            "_________________________________________________________________\n",
            "conv2d_17 (Conv2D)           (None, 75, 75, 64)        18496     \n",
            "_________________________________________________________________\n",
            "max_pooling2d_13 (MaxPooling (None, 37, 37, 64)        0         \n",
            "_________________________________________________________________\n",
            "conv2d_18 (Conv2D)           (None, 37, 37, 128)       73856     \n",
            "_________________________________________________________________\n",
            "max_pooling2d_14 (MaxPooling (None, 18, 18, 128)       0         \n",
            "_________________________________________________________________\n",
            "conv2d_19 (Conv2D)           (None, 18, 18, 128)       147584    \n",
            "_________________________________________________________________\n",
            "max_pooling2d_15 (MaxPooling (None, 9, 9, 128)         0         \n",
            "_________________________________________________________________\n",
            "flatten_3 (Flatten)          (None, 10368)             0         \n",
            "_________________________________________________________________\n",
            "dropout_2 (Dropout)          (None, 10368)             0         \n",
            "_________________________________________________________________\n",
            "dense_4 (Dense)              (None, 512)               5308928   \n",
            "_________________________________________________________________\n",
            "dense_5 (Dense)              (None, 3)                 1539      \n",
            "=================================================================\n",
            "Total params: 5,560,547\n",
            "Trainable params: 5,560,547\n",
            "Non-trainable params: 0\n",
            "_________________________________________________________________\n"
          ],
          "name": "stdout"
        }
      ]
    },
    {
      "cell_type": "code",
      "metadata": {
        "id": "gSxy4AXl-5NH",
        "colab_type": "code",
        "colab": {}
      },
      "source": [
        "model.compile(loss='categorical_crossentropy', optimizer='rmsprop', metrics=['acc'])"
      ],
      "execution_count": 0,
      "outputs": []
    },
    {
      "cell_type": "code",
      "metadata": {
        "id": "iPd_e-ZbBr0G",
        "colab_type": "code",
        "colab": {}
      },
      "source": [
        "class myCallback(tf.keras.callbacks.Callback):\n",
        "  def on_epoch_end(self, epoch, logs={}):\n",
        "    if(logs.get('acc')>0.999):\n",
        "      print(\"\\nReached 99.9% accuracy so cancelling training!\")\n",
        "      self.model.stop_training = True"
      ],
      "execution_count": 0,
      "outputs": []
    },
    {
      "cell_type": "code",
      "metadata": {
        "id": "ptnBXuYwBv_8",
        "colab_type": "code",
        "colab": {}
      },
      "source": [
        "callbacks = myCallback()"
      ],
      "execution_count": 0,
      "outputs": []
    },
    {
      "cell_type": "code",
      "metadata": {
        "id": "-FsFMIEqBHew",
        "colab_type": "code",
        "colab": {
          "base_uri": "https://localhost:8080/",
          "height": 1000
        },
        "outputId": "58901786-9f0f-47b4-f17d-ddc202bb5f83"
      },
      "source": [
        "history = model.fit_generator(train_generator, validation_data=valid_generator, epochs=100, verbose=1, callbacks=[callbacks])"
      ],
      "execution_count": 20,
      "outputs": [
        {
          "output_type": "stream",
          "text": [
            "Epoch 1/100\n",
            "79/79 [==============================] - 27s 340ms/step - loss: 1.1368 - acc: 0.3452 - val_loss: 1.1870 - val_acc: 0.3333\n",
            "Epoch 2/100\n",
            "79/79 [==============================] - 24s 300ms/step - loss: 1.0746 - acc: 0.4218 - val_loss: 0.9438 - val_acc: 0.5269\n",
            "Epoch 3/100\n",
            "79/79 [==============================] - 24s 305ms/step - loss: 0.9558 - acc: 0.5679 - val_loss: 0.6728 - val_acc: 0.6667\n",
            "Epoch 4/100\n",
            "79/79 [==============================] - 24s 301ms/step - loss: 0.7194 - acc: 0.6925 - val_loss: 0.4466 - val_acc: 0.8091\n",
            "Epoch 5/100\n",
            "79/79 [==============================] - 24s 304ms/step - loss: 0.5313 - acc: 0.7683 - val_loss: 0.2126 - val_acc: 0.9005\n",
            "Epoch 6/100\n",
            "79/79 [==============================] - 24s 304ms/step - loss: 0.3954 - acc: 0.8480 - val_loss: 0.1614 - val_acc: 0.9382\n",
            "Epoch 7/100\n",
            "79/79 [==============================] - 24s 305ms/step - loss: 0.3236 - acc: 0.8766 - val_loss: 0.2127 - val_acc: 0.9113\n",
            "Epoch 8/100\n",
            "79/79 [==============================] - 24s 301ms/step - loss: 0.3017 - acc: 0.8960 - val_loss: 0.1413 - val_acc: 0.9677\n",
            "Epoch 9/100\n",
            "79/79 [==============================] - 24s 305ms/step - loss: 0.2495 - acc: 0.9115 - val_loss: 0.2024 - val_acc: 0.9570\n",
            "Epoch 10/100\n",
            "79/79 [==============================] - 24s 299ms/step - loss: 0.2343 - acc: 0.9183 - val_loss: 0.0812 - val_acc: 0.9731\n",
            "Epoch 11/100\n",
            "79/79 [==============================] - 24s 303ms/step - loss: 0.2171 - acc: 0.9266 - val_loss: 0.1506 - val_acc: 0.9570\n",
            "Epoch 12/100\n",
            "79/79 [==============================] - 24s 303ms/step - loss: 0.1584 - acc: 0.9421 - val_loss: 0.1177 - val_acc: 0.9651\n",
            "Epoch 13/100\n",
            "79/79 [==============================] - 24s 303ms/step - loss: 0.1563 - acc: 0.9516 - val_loss: 0.0780 - val_acc: 0.9677\n",
            "Epoch 14/100\n",
            "79/79 [==============================] - 24s 301ms/step - loss: 0.1717 - acc: 0.9544 - val_loss: 0.1542 - val_acc: 0.9677\n",
            "Epoch 15/100\n",
            "79/79 [==============================] - 24s 305ms/step - loss: 0.1509 - acc: 0.9496 - val_loss: 0.0781 - val_acc: 0.9731\n",
            "Epoch 16/100\n",
            "79/79 [==============================] - 24s 298ms/step - loss: 0.1382 - acc: 0.9480 - val_loss: 0.0612 - val_acc: 0.9704\n",
            "Epoch 17/100\n",
            "79/79 [==============================] - 23s 296ms/step - loss: 0.1165 - acc: 0.9631 - val_loss: 0.0945 - val_acc: 0.9758\n",
            "Epoch 18/100\n",
            "79/79 [==============================] - 23s 291ms/step - loss: 0.1308 - acc: 0.9563 - val_loss: 0.1189 - val_acc: 0.9570\n",
            "Epoch 19/100\n",
            "79/79 [==============================] - 24s 299ms/step - loss: 0.1204 - acc: 0.9591 - val_loss: 0.0536 - val_acc: 0.9758\n",
            "Epoch 20/100\n",
            "79/79 [==============================] - 23s 295ms/step - loss: 0.1013 - acc: 0.9659 - val_loss: 0.1347 - val_acc: 0.9651\n",
            "Epoch 21/100\n",
            "79/79 [==============================] - 23s 296ms/step - loss: 0.1133 - acc: 0.9643 - val_loss: 0.0753 - val_acc: 0.9785\n",
            "Epoch 22/100\n",
            "79/79 [==============================] - 24s 299ms/step - loss: 0.1046 - acc: 0.9679 - val_loss: 0.1023 - val_acc: 0.9677\n",
            "Epoch 23/100\n",
            "79/79 [==============================] - 24s 304ms/step - loss: 0.1072 - acc: 0.9655 - val_loss: 0.1210 - val_acc: 0.9677\n",
            "Epoch 24/100\n",
            "79/79 [==============================] - 24s 299ms/step - loss: 0.1078 - acc: 0.9655 - val_loss: 0.0795 - val_acc: 0.9731\n",
            "Epoch 25/100\n",
            "79/79 [==============================] - 24s 301ms/step - loss: 0.1031 - acc: 0.9690 - val_loss: 0.1031 - val_acc: 0.9758\n",
            "Epoch 26/100\n",
            "79/79 [==============================] - 24s 302ms/step - loss: 0.1056 - acc: 0.9675 - val_loss: 0.0547 - val_acc: 0.9704\n",
            "Epoch 27/100\n",
            "79/79 [==============================] - 24s 304ms/step - loss: 0.0901 - acc: 0.9730 - val_loss: 0.0658 - val_acc: 0.9758\n",
            "Epoch 28/100\n",
            "79/79 [==============================] - 24s 303ms/step - loss: 0.0994 - acc: 0.9675 - val_loss: 0.1731 - val_acc: 0.9651\n",
            "Epoch 29/100\n",
            "79/79 [==============================] - 24s 299ms/step - loss: 0.0788 - acc: 0.9738 - val_loss: 0.0570 - val_acc: 0.9758\n",
            "Epoch 30/100\n",
            "79/79 [==============================] - 24s 300ms/step - loss: 0.0777 - acc: 0.9758 - val_loss: 0.0961 - val_acc: 0.9677\n",
            "Epoch 31/100\n",
            "79/79 [==============================] - 23s 297ms/step - loss: 0.0825 - acc: 0.9742 - val_loss: 0.1849 - val_acc: 0.9543\n",
            "Epoch 32/100\n",
            "79/79 [==============================] - 24s 299ms/step - loss: 0.0760 - acc: 0.9782 - val_loss: 0.2018 - val_acc: 0.9543\n",
            "Epoch 33/100\n",
            "79/79 [==============================] - 23s 294ms/step - loss: 0.0760 - acc: 0.9746 - val_loss: 0.0612 - val_acc: 0.9812\n",
            "Epoch 34/100\n",
            "79/79 [==============================] - 23s 293ms/step - loss: 0.0823 - acc: 0.9790 - val_loss: 0.2688 - val_acc: 0.9355\n",
            "Epoch 35/100\n",
            "79/79 [==============================] - 23s 292ms/step - loss: 0.0981 - acc: 0.9742 - val_loss: 0.0676 - val_acc: 0.9785\n",
            "Epoch 36/100\n",
            "79/79 [==============================] - 23s 292ms/step - loss: 0.0774 - acc: 0.9758 - val_loss: 0.0899 - val_acc: 0.9704\n",
            "Epoch 37/100\n",
            "79/79 [==============================] - 23s 292ms/step - loss: 0.0671 - acc: 0.9790 - val_loss: 0.1245 - val_acc: 0.9597\n",
            "Epoch 38/100\n",
            "79/79 [==============================] - 24s 298ms/step - loss: 0.0761 - acc: 0.9790 - val_loss: 0.2039 - val_acc: 0.9489\n",
            "Epoch 39/100\n",
            "79/79 [==============================] - 23s 296ms/step - loss: 0.0637 - acc: 0.9837 - val_loss: 0.1201 - val_acc: 0.9758\n",
            "Epoch 40/100\n",
            "79/79 [==============================] - 23s 294ms/step - loss: 0.1457 - acc: 0.9754 - val_loss: 0.1545 - val_acc: 0.9462\n",
            "Epoch 41/100\n",
            "79/79 [==============================] - 23s 294ms/step - loss: 0.0887 - acc: 0.9742 - val_loss: 0.1353 - val_acc: 0.9651\n",
            "Epoch 42/100\n",
            "79/79 [==============================] - 23s 293ms/step - loss: 0.0768 - acc: 0.9786 - val_loss: 0.1047 - val_acc: 0.9704\n",
            "Epoch 43/100\n",
            "79/79 [==============================] - 23s 297ms/step - loss: 0.0800 - acc: 0.9774 - val_loss: 0.2829 - val_acc: 0.9274\n",
            "Epoch 44/100\n",
            "79/79 [==============================] - 24s 301ms/step - loss: 0.0789 - acc: 0.9802 - val_loss: 0.1365 - val_acc: 0.9516\n",
            "Epoch 45/100\n",
            "79/79 [==============================] - 24s 299ms/step - loss: 0.0690 - acc: 0.9806 - val_loss: 0.1121 - val_acc: 0.9570\n",
            "Epoch 46/100\n",
            "79/79 [==============================] - 24s 298ms/step - loss: 0.0687 - acc: 0.9833 - val_loss: 0.1398 - val_acc: 0.9704\n",
            "Epoch 47/100\n",
            "79/79 [==============================] - 24s 303ms/step - loss: 0.0784 - acc: 0.9786 - val_loss: 0.0981 - val_acc: 0.9597\n",
            "Epoch 48/100\n",
            "79/79 [==============================] - 24s 302ms/step - loss: 0.0710 - acc: 0.9825 - val_loss: 0.1304 - val_acc: 0.9704\n",
            "Epoch 49/100\n",
            "79/79 [==============================] - 24s 299ms/step - loss: 0.0793 - acc: 0.9782 - val_loss: 0.1221 - val_acc: 0.9624\n",
            "Epoch 50/100\n",
            "79/79 [==============================] - 24s 300ms/step - loss: 0.0724 - acc: 0.9813 - val_loss: 0.1506 - val_acc: 0.9651\n",
            "Epoch 51/100\n",
            "79/79 [==============================] - 24s 300ms/step - loss: 0.0654 - acc: 0.9821 - val_loss: 0.0903 - val_acc: 0.9731\n",
            "Epoch 52/100\n",
            "79/79 [==============================] - 24s 300ms/step - loss: 0.0616 - acc: 0.9825 - val_loss: 0.2187 - val_acc: 0.9597\n",
            "Epoch 53/100\n",
            "79/79 [==============================] - 24s 300ms/step - loss: 0.0667 - acc: 0.9853 - val_loss: 0.0941 - val_acc: 0.9758\n",
            "Epoch 54/100\n",
            "79/79 [==============================] - 23s 296ms/step - loss: 0.0690 - acc: 0.9849 - val_loss: 0.1386 - val_acc: 0.9570\n",
            "Epoch 55/100\n",
            "79/79 [==============================] - 23s 288ms/step - loss: 0.0409 - acc: 0.9881 - val_loss: 0.4358 - val_acc: 0.9032\n",
            "Epoch 56/100\n",
            "79/79 [==============================] - 23s 294ms/step - loss: 0.0692 - acc: 0.9841 - val_loss: 0.1009 - val_acc: 0.9758\n",
            "Epoch 57/100\n",
            "79/79 [==============================] - 23s 291ms/step - loss: 0.0831 - acc: 0.9746 - val_loss: 0.2602 - val_acc: 0.9274\n",
            "Epoch 58/100\n",
            "79/79 [==============================] - 24s 299ms/step - loss: 0.0530 - acc: 0.9837 - val_loss: 0.4037 - val_acc: 0.9301\n",
            "Epoch 59/100\n",
            "79/79 [==============================] - 23s 297ms/step - loss: 0.0980 - acc: 0.9786 - val_loss: 0.1315 - val_acc: 0.9651\n",
            "Epoch 60/100\n",
            "79/79 [==============================] - 24s 298ms/step - loss: 0.0730 - acc: 0.9829 - val_loss: 0.0991 - val_acc: 0.9731\n",
            "Epoch 61/100\n",
            "79/79 [==============================] - 23s 290ms/step - loss: 0.0980 - acc: 0.9817 - val_loss: 0.1421 - val_acc: 0.9597\n",
            "Epoch 62/100\n",
            "79/79 [==============================] - 22s 284ms/step - loss: 0.0492 - acc: 0.9857 - val_loss: 0.1715 - val_acc: 0.9462\n",
            "Epoch 63/100\n",
            "79/79 [==============================] - 22s 282ms/step - loss: 0.0657 - acc: 0.9853 - val_loss: 0.0504 - val_acc: 0.9812\n",
            "Epoch 64/100\n",
            "79/79 [==============================] - 23s 286ms/step - loss: 0.0622 - acc: 0.9837 - val_loss: 0.5951 - val_acc: 0.6989\n",
            "Epoch 65/100\n",
            "79/79 [==============================] - 22s 282ms/step - loss: 0.0453 - acc: 0.9869 - val_loss: 0.1980 - val_acc: 0.9651\n",
            "Epoch 66/100\n",
            "79/79 [==============================] - 22s 283ms/step - loss: 0.0610 - acc: 0.9817 - val_loss: 0.1698 - val_acc: 0.9704\n",
            "Epoch 67/100\n",
            "79/79 [==============================] - 23s 289ms/step - loss: 0.0552 - acc: 0.9913 - val_loss: 0.2606 - val_acc: 0.8871\n",
            "Epoch 68/100\n",
            "79/79 [==============================] - 23s 295ms/step - loss: 0.0625 - acc: 0.9825 - val_loss: 0.0647 - val_acc: 0.9758\n",
            "Epoch 69/100\n",
            "79/79 [==============================] - 23s 297ms/step - loss: 0.0452 - acc: 0.9857 - val_loss: 0.2238 - val_acc: 0.9624\n",
            "Epoch 70/100\n",
            "79/79 [==============================] - 24s 302ms/step - loss: 0.1042 - acc: 0.9782 - val_loss: 0.1309 - val_acc: 0.9731\n",
            "Epoch 71/100\n",
            "79/79 [==============================] - 24s 298ms/step - loss: 0.0668 - acc: 0.9845 - val_loss: 0.2145 - val_acc: 0.9597\n",
            "Epoch 72/100\n",
            "79/79 [==============================] - 24s 304ms/step - loss: 0.0685 - acc: 0.9853 - val_loss: 0.0471 - val_acc: 0.9785\n",
            "Epoch 73/100\n",
            "79/79 [==============================] - 24s 301ms/step - loss: 0.0695 - acc: 0.9837 - val_loss: 0.1590 - val_acc: 0.9597\n",
            "Epoch 74/100\n",
            "79/79 [==============================] - 24s 301ms/step - loss: 0.0838 - acc: 0.9802 - val_loss: 0.0876 - val_acc: 0.9758\n",
            "Epoch 75/100\n",
            "79/79 [==============================] - 24s 300ms/step - loss: 0.0476 - acc: 0.9885 - val_loss: 0.1104 - val_acc: 0.9731\n",
            "Epoch 76/100\n",
            "79/79 [==============================] - 24s 304ms/step - loss: 0.0418 - acc: 0.9917 - val_loss: 0.1263 - val_acc: 0.9758\n",
            "Epoch 77/100\n",
            "79/79 [==============================] - 24s 302ms/step - loss: 0.1562 - acc: 0.9726 - val_loss: 0.3097 - val_acc: 0.9220\n",
            "Epoch 78/100\n",
            "79/79 [==============================] - 24s 303ms/step - loss: 0.0620 - acc: 0.9845 - val_loss: 0.1342 - val_acc: 0.9597\n",
            "Epoch 79/100\n",
            "79/79 [==============================] - 24s 301ms/step - loss: 0.0596 - acc: 0.9861 - val_loss: 0.0408 - val_acc: 0.9785\n",
            "Epoch 80/100\n",
            "79/79 [==============================] - 24s 303ms/step - loss: 0.0649 - acc: 0.9821 - val_loss: 0.0826 - val_acc: 0.9731\n",
            "Epoch 81/100\n",
            "79/79 [==============================] - 24s 299ms/step - loss: 0.0677 - acc: 0.9845 - val_loss: 0.1460 - val_acc: 0.9731\n",
            "Epoch 82/100\n",
            "79/79 [==============================] - 23s 295ms/step - loss: 0.0686 - acc: 0.9829 - val_loss: 0.1228 - val_acc: 0.9677\n",
            "Epoch 83/100\n",
            "79/79 [==============================] - 23s 294ms/step - loss: 0.0513 - acc: 0.9877 - val_loss: 0.1275 - val_acc: 0.9731\n",
            "Epoch 84/100\n",
            "79/79 [==============================] - 23s 293ms/step - loss: 0.0557 - acc: 0.9861 - val_loss: 0.2861 - val_acc: 0.9516\n",
            "Epoch 85/100\n",
            "79/79 [==============================] - 24s 298ms/step - loss: 0.0525 - acc: 0.9901 - val_loss: 0.2686 - val_acc: 0.9516\n",
            "Epoch 86/100\n",
            "79/79 [==============================] - 23s 295ms/step - loss: 0.0905 - acc: 0.9841 - val_loss: 0.3688 - val_acc: 0.9328\n",
            "Epoch 87/100\n",
            "79/79 [==============================] - 23s 295ms/step - loss: 0.0611 - acc: 0.9881 - val_loss: 0.1541 - val_acc: 0.9677\n",
            "Epoch 88/100\n",
            "79/79 [==============================] - 23s 296ms/step - loss: 0.0468 - acc: 0.9885 - val_loss: 0.1030 - val_acc: 0.9677\n",
            "Epoch 89/100\n",
            "79/79 [==============================] - 23s 296ms/step - loss: 0.0778 - acc: 0.9829 - val_loss: 0.1132 - val_acc: 0.9624\n",
            "Epoch 90/100\n",
            "79/79 [==============================] - 24s 299ms/step - loss: 0.0604 - acc: 0.9853 - val_loss: 0.1595 - val_acc: 0.9677\n",
            "Epoch 91/100\n",
            "79/79 [==============================] - 24s 300ms/step - loss: 0.0642 - acc: 0.9873 - val_loss: 0.1674 - val_acc: 0.9543\n",
            "Epoch 92/100\n",
            "79/79 [==============================] - 23s 295ms/step - loss: 0.0530 - acc: 0.9877 - val_loss: 0.0589 - val_acc: 0.9785\n",
            "Epoch 93/100\n",
            "79/79 [==============================] - 23s 292ms/step - loss: 0.0627 - acc: 0.9885 - val_loss: 0.0739 - val_acc: 0.9785\n",
            "Epoch 94/100\n",
            "79/79 [==============================] - 23s 293ms/step - loss: 0.0968 - acc: 0.9837 - val_loss: 0.0685 - val_acc: 0.9758\n",
            "Epoch 95/100\n",
            "79/79 [==============================] - 24s 298ms/step - loss: 0.0738 - acc: 0.9865 - val_loss: 0.0922 - val_acc: 0.9624\n",
            "Epoch 96/100\n",
            "79/79 [==============================] - 24s 302ms/step - loss: 0.0577 - acc: 0.9873 - val_loss: 0.0954 - val_acc: 0.9624\n",
            "Epoch 97/100\n",
            "79/79 [==============================] - 23s 296ms/step - loss: 0.0847 - acc: 0.9806 - val_loss: 0.0931 - val_acc: 0.9677\n",
            "Epoch 98/100\n",
            "79/79 [==============================] - 23s 292ms/step - loss: 0.0660 - acc: 0.9897 - val_loss: 0.3158 - val_acc: 0.9409\n",
            "Epoch 99/100\n",
            "79/79 [==============================] - 23s 290ms/step - loss: 0.0626 - acc: 0.9869 - val_loss: 0.3447 - val_acc: 0.9167\n",
            "Epoch 100/100\n",
            "79/79 [==============================] - 23s 291ms/step - loss: 0.0686 - acc: 0.9849 - val_loss: 0.0675 - val_acc: 0.9704\n"
          ],
          "name": "stdout"
        }
      ]
    },
    {
      "cell_type": "code",
      "metadata": {
        "id": "AgoMrtXYB1Ze",
        "colab_type": "code",
        "colab": {
          "base_uri": "https://localhost:8080/",
          "height": 298
        },
        "outputId": "a0fe1743-9f12-4466-fb67-41b368eacc73"
      },
      "source": [
        "import matplotlib.pyplot as plt\n",
        "acc = history.history['acc']\n",
        "val_acc = history.history['val_acc']\n",
        "loss = history.history['loss']\n",
        "val_loss = history.history['val_loss']\n",
        "\n",
        "epochs = range(len(acc))\n",
        "\n",
        "plt.plot(epochs, acc, 'r', label='Training accuracy')\n",
        "plt.plot(epochs, val_acc, 'b', label='Validation accuracy')\n",
        "plt.title('Training and validation accuracy')\n",
        "plt.legend(loc=0)\n",
        "plt.figure()\n",
        "\n",
        "\n",
        "plt.show()"
      ],
      "execution_count": 21,
      "outputs": [
        {
          "output_type": "display_data",
          "data": {
            "image/png": "[encoded data removed]",
            "text/plain": [
              "<Figure size 432x288 with 1 Axes>"
            ]
          },
          "metadata": {
            "tags": []
          }
        },
        {
          "output_type": "display_data",
          "data": {
            "text/plain": [
              "<Figure size 432x288 with 0 Axes>"
            ]
          },
          "metadata": {
            "tags": []
          }
        }
      ]
    }
  ]
}